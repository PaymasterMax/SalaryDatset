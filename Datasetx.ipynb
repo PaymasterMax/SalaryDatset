{
  "nbformat": 4,
  "nbformat_minor": 0,
  "metadata": {
    "colab": {
      "name": "Datasetx.ipynb",
      "provenance": [],
      "private_outputs": true,
      "collapsed_sections": [],
      "authorship_tag": "ABX9TyMjrg/WcMrr3ZCd2wnA5Q3V",
      "include_colab_link": true
    },
    "kernelspec": {
      "name": "python3",
      "display_name": "Python 3"
    },
    "accelerator": "GPU"
  },
  "cells": [
    {
      "cell_type": "markdown",
      "metadata": {
        "id": "view-in-github",
        "colab_type": "text"
      },
      "source": [
        "<a href=\"https://colab.research.google.com/github/PaymasterMax/SalaryDatset/blob/main/Datasetx.ipynb\" target=\"_parent\"><img src=\"https://colab.research.google.com/assets/colab-badge.svg\" alt=\"Open In Colab\"/></a>"
      ]
    },
    {
      "cell_type": "markdown",
      "metadata": {
        "id": "4BvpK4PwI1Lv"
      },
      "source": [
        "# Import modules for the project\n",
        "\n"
      ]
    },
    {
      "cell_type": "code",
      "metadata": {
        "id": "AS4VaYNJITmW"
      },
      "source": [
        "from matplotlib import pyplot as plt\n",
        "import numpy as np,pandas as pd\n",
        "from sklearn.tree import DecisionTreeRegressor\n",
        "from sklearn.ensemble import RandomForestRegressor\n",
        "from sklearn.preprocessing import OneHotEncoder\n",
        "from sklearn.compose import ColumnTransformer\n",
        "from sklearn.metrics import accuracy_score,auc\n",
        "from sklearn.model_selection import train_test_split\n",
        "from sklearn.pipeline import Pipeline"
      ],
      "execution_count": null,
      "outputs": []
    },
    {
      "cell_type": "markdown",
      "metadata": {
        "id": "XtV7WDhqKf6g"
      },
      "source": [
        "Read the dataset from the variable url given below.\n",
        "[nba dataset](https://media.geeksforgeeks.org/wp-content/uploads/nba.csv)\n"
      ]
    },
    {
      "cell_type": "code",
      "metadata": {
        "id": "OUnhmgBUItXv"
      },
      "source": [
        "url = \"https://media.geeksforgeeks.org/wp-content/uploads/nba.csv\"\n",
        "data = pd.read_csv(url)\n",
        "data.head()"
      ],
      "execution_count": null,
      "outputs": []
    },
    {
      "cell_type": "markdown",
      "metadata": {
        "id": "agSHb3O0JVFx"
      },
      "source": [
        "**Check nulls & other anormalies in the data**"
      ]
    },
    {
      "cell_type": "code",
      "metadata": {
        "id": "8sTH_XPtKDfU"
      },
      "source": [
        "data.isna().sum()"
      ],
      "execution_count": null,
      "outputs": []
    },
    {
      "cell_type": "markdown",
      "metadata": {
        "id": "sf-gEgdNKFZ2"
      },
      "source": [
        "# Deal with  missing values."
      ]
    },
    {
      "cell_type": "code",
      "metadata": {
        "id": "fGenQc36I8c0"
      },
      "source": [
        "data.dropna(inplace=True)"
      ],
      "execution_count": null,
      "outputs": []
    },
    {
      "cell_type": "markdown",
      "metadata": {
        "id": "zfhP-grZJfz4"
      },
      "source": [
        "# Sepparate the feature and target variables into x and y respectively."
      ]
    },
    {
      "cell_type": "code",
      "metadata": {
        "id": "axxwZ5oQJDqJ"
      },
      "source": [
        "X , Y = data.drop(\"Salary\" , axis = 1) , data[\"Salary\"]\n",
        "\n",
        "transformer = ColumnTransformer([\n",
        "                    (\"Encoder\" , OneHotEncoder(sparse = False , drop = \"first\") , [\"Name\" , \"Team\" , \"Position\" , \"College\"])\n",
        "] , remainder = \"passthrough\")\n",
        "transformed_x = transformer.fit_transform(X)\n",
        "\n",
        "print(transformed_x)\n",
        "x_train  , x_test , y_train , y_test = train_test_split(transformed_x, Y ,test_size = .2)"
      ],
      "execution_count": null,
      "outputs": []
    },
    {
      "cell_type": "code",
      "metadata": {
        "id": "D0Q2DwOhN_W3"
      },
      "source": [
        "X"
      ],
      "execution_count": null,
      "outputs": []
    },
    {
      "cell_type": "code",
      "metadata": {
        "id": "z_iNjRy_OPij"
      },
      "source": [
        ""
      ],
      "execution_count": null,
      "outputs": []
    },
    {
      "cell_type": "markdown",
      "metadata": {
        "id": "KTxa02g3Xbpz"
      },
      "source": [
        "# Build a machine learning pipeline to hadler each and every step your models"
      ]
    },
    {
      "cell_type": "code",
      "metadata": {
        "id": "jPjqz1MGXavM"
      },
      "source": [
        "pipe = Pipeline(steps=[\n",
        "                                        (\"transfomer\" , OneHotEncoder(drop=\"first\" , sparse = True),\n",
        "                                         )\n",
        "])"
      ],
      "execution_count": null,
      "outputs": []
    },
    {
      "cell_type": "code",
      "metadata": {
        "id": "tB7iaPZfYuWQ"
      },
      "source": [
        "pipe.fit_transform(X)"
      ],
      "execution_count": null,
      "outputs": []
    },
    {
      "cell_type": "code",
      "metadata": {
        "id": "Ba9Bm7cDmK9Y"
      },
      "source": [
        "data"
      ],
      "execution_count": null,
      "outputs": []
    },
    {
      "cell_type": "code",
      "metadata": {
        "id": "EsVdO-ndmkfR"
      },
      "source": [
        "len(data['College'].unique())"
      ],
      "execution_count": null,
      "outputs": []
    },
    {
      "cell_type": "code",
      "metadata": {
        "id": "wZlhywzum1Ny"
      },
      "source": [
        "len(data['Position'])"
      ],
      "execution_count": null,
      "outputs": []
    },
    {
      "cell_type": "code",
      "metadata": {
        "id": "9xsD84Zimqn1"
      },
      "source": [
        "data.info()"
      ],
      "execution_count": null,
      "outputs": []
    },
    {
      "cell_type": "code",
      "metadata": {
        "id": "43S_c0gimydL"
      },
      "source": [
        "def data_Eda():\n",
        "  \n",
        "  return 0 "
      ],
      "execution_count": null,
      "outputs": []
    },
    {
      "cell_type": "code",
      "metadata": {
        "id": "5aHHVywLu97P"
      },
      "source": [
        ""
      ],
      "execution_count": null,
      "outputs": []
    }
  ]
}